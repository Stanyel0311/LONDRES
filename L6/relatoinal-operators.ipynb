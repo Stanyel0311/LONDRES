{
 "cells": [
  {
   "cell_type": "markdown",
   "id": "90bb8f72",
   "metadata": {},
   "source": [
    "# Relational Operators <hr style=\"border:2.5px solid #738849\"></hr>"
   ]
  },
  {
   "cell_type": "markdown",
   "id": "b210efb1",
   "metadata": {},
   "source": [
    "Data Analyst: Esthaniel Louis E. Londres </br>\n",
    "Department: Electrical Engineering"
   ]
  },
  {
   "cell_type": "markdown",
   "id": "ef0f9778",
   "metadata": {},
   "source": [
    "# Equal to"
   ]
  },
  {
   "cell_type": "code",
   "execution_count": 1,
   "id": "f24d46dd",
   "metadata": {},
   "outputs": [
    {
     "data": {
      "text/plain": [
       "True"
      ]
     },
     "execution_count": 1,
     "metadata": {},
     "output_type": "execute_result"
    }
   ],
   "source": [
    "a = 5\n",
    "b = 5\n",
    "a == b"
   ]
  },
  {
   "cell_type": "code",
   "execution_count": 2,
   "id": "5f2d6305",
   "metadata": {},
   "outputs": [
    {
     "data": {
      "text/plain": [
       "False"
      ]
     },
     "execution_count": 2,
     "metadata": {},
     "output_type": "execute_result"
    }
   ],
   "source": [
    "a = 0\n",
    "b = 5\n",
    "a == b"
   ]
  },
  {
   "cell_type": "markdown",
   "id": "efeabfd3",
   "metadata": {},
   "source": [
    "# Not equal to"
   ]
  },
  {
   "cell_type": "code",
   "execution_count": 3,
   "id": "c6d19937",
   "metadata": {},
   "outputs": [
    {
     "data": {
      "text/plain": [
       "False"
      ]
     },
     "execution_count": 3,
     "metadata": {},
     "output_type": "execute_result"
    }
   ],
   "source": [
    "a = 5\n",
    "b = 5\n",
    "a!=b"
   ]
  },
  {
   "cell_type": "code",
   "execution_count": 4,
   "id": "5b245dbf",
   "metadata": {},
   "outputs": [
    {
     "data": {
      "text/plain": [
       "True"
      ]
     },
     "execution_count": 4,
     "metadata": {},
     "output_type": "execute_result"
    }
   ],
   "source": [
    "a = 0\n",
    "b = 5\n",
    "a != b"
   ]
  },
  {
   "cell_type": "markdown",
   "id": "87dc9fbd",
   "metadata": {},
   "source": [
    "# Greater than"
   ]
  },
  {
   "cell_type": "code",
   "execution_count": 5,
   "id": "d1a8827d",
   "metadata": {},
   "outputs": [
    {
     "data": {
      "text/plain": [
       "True"
      ]
     },
     "execution_count": 5,
     "metadata": {},
     "output_type": "execute_result"
    }
   ],
   "source": [
    "a = 5\n",
    "b = 0\n",
    "a > b"
   ]
  },
  {
   "cell_type": "code",
   "execution_count": 6,
   "id": "62c9d97e",
   "metadata": {},
   "outputs": [
    {
     "data": {
      "text/plain": [
       "False"
      ]
     },
     "execution_count": 6,
     "metadata": {},
     "output_type": "execute_result"
    }
   ],
   "source": [
    "a = 0\n",
    "b = 5\n",
    "a > 5"
   ]
  },
  {
   "cell_type": "markdown",
   "id": "4a839c0a",
   "metadata": {},
   "source": [
    "# Less than"
   ]
  },
  {
   "cell_type": "code",
   "execution_count": 7,
   "id": "e9fd5a3b",
   "metadata": {},
   "outputs": [
    {
     "data": {
      "text/plain": [
       "False"
      ]
     },
     "execution_count": 7,
     "metadata": {},
     "output_type": "execute_result"
    }
   ],
   "source": [
    "a = 5\n",
    "b = 0\n",
    "a < b"
   ]
  },
  {
   "cell_type": "code",
   "execution_count": 8,
   "id": "0878224f",
   "metadata": {},
   "outputs": [
    {
     "data": {
      "text/plain": [
       "True"
      ]
     },
     "execution_count": 8,
     "metadata": {},
     "output_type": "execute_result"
    }
   ],
   "source": [
    "a = 0\n",
    "b = 5\n",
    "a < b"
   ]
  },
  {
   "cell_type": "markdown",
   "id": "81843762",
   "metadata": {},
   "source": [
    "# Greater than or equal "
   ]
  },
  {
   "cell_type": "code",
   "execution_count": 9,
   "id": "44c4b251",
   "metadata": {},
   "outputs": [
    {
     "data": {
      "text/plain": [
       "True"
      ]
     },
     "execution_count": 9,
     "metadata": {},
     "output_type": "execute_result"
    }
   ],
   "source": [
    "a = 3\n",
    "b = 3\n",
    "a >= b"
   ]
  },
  {
   "cell_type": "code",
   "execution_count": 10,
   "id": "051f8a7b",
   "metadata": {},
   "outputs": [
    {
     "data": {
      "text/plain": [
       "True"
      ]
     },
     "execution_count": 10,
     "metadata": {},
     "output_type": "execute_result"
    }
   ],
   "source": [
    "a = 5\n",
    "b = 3\n",
    "a >= b"
   ]
  },
  {
   "cell_type": "markdown",
   "id": "f76e4055",
   "metadata": {},
   "source": [
    "# Less than or equal"
   ]
  },
  {
   "cell_type": "code",
   "execution_count": 11,
   "id": "76aa6746",
   "metadata": {},
   "outputs": [
    {
     "data": {
      "text/plain": [
       "True"
      ]
     },
     "execution_count": 11,
     "metadata": {},
     "output_type": "execute_result"
    }
   ],
   "source": [
    "a = 3\n",
    "b = 3\n",
    "a <= b"
   ]
  },
  {
   "cell_type": "code",
   "execution_count": 12,
   "id": "96b1675b",
   "metadata": {},
   "outputs": [
    {
     "data": {
      "text/plain": [
       "False"
      ]
     },
     "execution_count": 12,
     "metadata": {},
     "output_type": "execute_result"
    }
   ],
   "source": [
    "a = 5\n",
    "b = 3\n",
    "a <= b"
   ]
  }
 ],
 "metadata": {
  "kernelspec": {
   "display_name": "Python 3",
   "language": "python",
   "name": "python3"
  },
  "language_info": {
   "codemirror_mode": {
    "name": "ipython",
    "version": 3
   },
   "file_extension": ".py",
   "mimetype": "text/x-python",
   "name": "python",
   "nbconvert_exporter": "python",
   "pygments_lexer": "ipython3",
   "version": "3.13.2"
  }
 },
 "nbformat": 4,
 "nbformat_minor": 5
}
