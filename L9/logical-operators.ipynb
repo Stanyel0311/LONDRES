{
 "cells": [
  {
   "cell_type": "markdown",
   "id": "31755b61",
   "metadata": {},
   "source": [
    "# Logical Operators <hr style=\"border:2.5px solid #738849\"></hr>"
   ]
  },
  {
   "cell_type": "markdown",
   "id": "3229aa5e",
   "metadata": {},
   "source": [
    "\n",
    "Data Analyst: Esthaniel Louis E. Lodres <br> \n",
    "Department: Electrical Engineering"
   ]
  },
  {
   "cell_type": "markdown",
   "id": "2f669413",
   "metadata": {},
   "source": [
    "# Logical AND"
   ]
  },
  {
   "cell_type": "code",
   "execution_count": 1,
   "id": "5e28847f",
   "metadata": {},
   "outputs": [
    {
     "name": "stdout",
     "output_type": "stream",
     "text": [
      "both are true\n"
     ]
    }
   ],
   "source": [
    "# a AND b must be true\n",
    "a = True \n",
    "b = True\n",
    "\n",
    "if a and b:\n",
    "    print(\"both are true\")\n",
    "elif not(a) and not(b):\n",
    "    print(\"both are false\")\n",
    "else:\n",
    "    print(\"at least one is false\")"
   ]
  },
  {
   "cell_type": "code",
   "execution_count": 8,
   "id": "9806ab4b",
   "metadata": {},
   "outputs": [
    {
     "name": "stdout",
     "output_type": "stream",
     "text": [
      "35 is out of range.\n"
     ]
    }
   ],
   "source": [
    "# check if a is within range of 1 to 30\n",
    "a = 35\n",
    "\n",
    "if (a > 0) and (a <= 10):\n",
    "    print(str(a) + \" is within the range of 1 to 10.\")\n",
    "elif (a > 10) and (a <= 20):\n",
    "    print(str(a) + \" is within the range of 11 to 20.\")\n",
    "elif (a > 20) and (a <= 30):\n",
    "    print(str(a) + \" is within the range of 21 to 30.\")\n",
    "else:\n",
    "    print(str(a) + \" is out of range.\")"
   ]
  },
  {
   "cell_type": "markdown",
   "id": "659fc4e7",
   "metadata": {},
   "source": [
    "# Logical OR"
   ]
  },
  {
   "cell_type": "code",
   "execution_count": 9,
   "id": "72e40ce1",
   "metadata": {},
   "outputs": [
    {
     "name": "stdout",
     "output_type": "stream",
     "text": [
      "both are false\n"
     ]
    }
   ],
   "source": [
    "# either a OR b is True\n",
    "a = False\n",
    "b = False\n",
    "\n",
    "if a or b:\n",
    "    print(\"at least one is true\")\n",
    "else:\n",
    "    print(\"both are false\")"
   ]
  },
  {
   "cell_type": "code",
   "execution_count": 10,
   "id": "9f475dcb",
   "metadata": {},
   "outputs": [
    {
     "name": "stdout",
     "output_type": "stream",
     "text": [
      "Bring an umbrella or stay indoors!\n"
     ]
    }
   ],
   "source": [
    "# Go outside or stay indoors\n",
    "weather = \"rainy\"\n",
    "\n",
    "if(weather == 'rainy') or (weather == 'stormy'):\n",
    "    print(\"Bring an umbrella or stay indoors!\")\n",
    "elif(weather == 'sunny') or (weather == clear):\n",
    "    print(\"It's a great day to go outside!\")\n",
    "else:\n",
    "    print(\"The weather is unpredictable today\")"
   ]
  },
  {
   "cell_type": "markdown",
   "id": "0f9f73df",
   "metadata": {},
   "source": [
    "# Logical NOT"
   ]
  },
  {
   "cell_type": "code",
   "execution_count": 11,
   "id": "3f6c9d4b",
   "metadata": {},
   "outputs": [
    {
     "data": {
      "text/plain": [
       "True"
      ]
     },
     "execution_count": 11,
     "metadata": {},
     "output_type": "execute_result"
    }
   ],
   "source": [
    "# negate the logicaln state\n",
    "a = False\n",
    "not a"
   ]
  },
  {
   "cell_type": "code",
   "execution_count": 12,
   "id": "0a219595",
   "metadata": {},
   "outputs": [
    {
     "name": "stdout",
     "output_type": "stream",
     "text": [
      "8 is even\n"
     ]
    }
   ],
   "source": [
    "# odd or even number\n",
    "a = 8\n",
    "if a%2 == 0:\n",
    "    print(str(a) + \" is even\")\n",
    "else:\n",
    "    print(str(a) + \" is odd\")"
   ]
  }
 ],
 "metadata": {
  "kernelspec": {
   "display_name": "Python 3",
   "language": "python",
   "name": "python3"
  },
  "language_info": {
   "codemirror_mode": {
    "name": "ipython",
    "version": 3
   },
   "file_extension": ".py",
   "mimetype": "text/x-python",
   "name": "python",
   "nbconvert_exporter": "python",
   "pygments_lexer": "ipython3",
   "version": "3.13.2"
  }
 },
 "nbformat": 4,
 "nbformat_minor": 5
}
