{
 "cells": [
  {
   "cell_type": "markdown",
   "id": "246b4d98",
   "metadata": {},
   "source": [
    "# for loop <hr style=\"border:2.5px solid #738849\"></hr>"
   ]
  },
  {
   "cell_type": "markdown",
   "id": "8c67174b",
   "metadata": {},
   "source": [
    "Data Analyst: Esthaniel Louis E. Londres <br>\n",
    "Department: Electrical Engineering"
   ]
  },
  {
   "cell_type": "markdown",
   "id": "1a72abea",
   "metadata": {},
   "source": [
    "# Iterating Over a List"
   ]
  },
  {
   "cell_type": "code",
   "execution_count": 1,
   "id": "bc7cd928",
   "metadata": {},
   "outputs": [
    {
     "name": "stdout",
     "output_type": "stream",
     "text": [
      "apple\n",
      "orange\n",
      "grapes\n",
      "5\n"
     ]
    }
   ],
   "source": [
    "# at index 0, i = 'apple'\n",
    "fruits = ['apple','orange','grapes',5]\n",
    "for i in fruits:\n",
    "    print(i)"
   ]
  },
  {
   "cell_type": "code",
   "execution_count": 2,
   "id": "1599d444",
   "metadata": {},
   "outputs": [
    {
     "name": "stdout",
     "output_type": "stream",
     "text": [
      "1\n",
      "2\n",
      "3\n",
      "4\n",
      "5\n",
      "6\n",
      "7\n",
      "8\n",
      "9\n",
      "10\n"
     ]
    }
   ],
   "source": [
    "numbers = [1,2,3,4,5,6,7,8,9,10]\n",
    "\n",
    "for n in numbers:\n",
    "    print(n)"
   ]
  },
  {
   "cell_type": "code",
   "execution_count": 4,
   "id": "f754d3d0",
   "metadata": {},
   "outputs": [
    {
     "name": "stdout",
     "output_type": "stream",
     "text": [
      "1\n",
      "3\n",
      "5\n",
      "7\n",
      "9\n"
     ]
    }
   ],
   "source": [
    "for j in range (1,10,2):\n",
    "    print(j)"
   ]
  },
  {
   "cell_type": "markdown",
   "id": "3c4c3494",
   "metadata": {},
   "source": [
    "# Literating Over a Dictionary"
   ]
  },
  {
   "cell_type": "code",
   "execution_count": 5,
   "id": "59bf690a",
   "metadata": {},
   "outputs": [
    {
     "name": "stdout",
     "output_type": "stream",
     "text": [
      "P\n",
      "y\n",
      "t\n",
      "h\n",
      "o\n",
      "n\n"
     ]
    }
   ],
   "source": [
    "for char in \"Python\":\n",
    "    print(char)"
   ]
  },
  {
   "cell_type": "code",
   "execution_count": 11,
   "id": "b13e0d33",
   "metadata": {},
   "outputs": [
    {
     "name": "stdout",
     "output_type": "stream",
     "text": [
      "name\n",
      "position\n",
      "salary\n",
      "Stan\n",
      "analyst\n",
      "90000\n"
     ]
    }
   ],
   "source": [
    "employee = {\n",
    "    'name':'Stan',\n",
    "    'position':'analyst',\n",
    "    'salary':90000\n",
    "}\n",
    "for key in employee:\n",
    "    print(key)\n",
    "\n",
    "for value in employee.values():\n",
    "    print(value)"
   ]
  }
 ],
 "metadata": {
  "kernelspec": {
   "display_name": "Python 3",
   "language": "python",
   "name": "python3"
  },
  "language_info": {
   "codemirror_mode": {
    "name": "ipython",
    "version": 3
   },
   "file_extension": ".py",
   "mimetype": "text/x-python",
   "name": "python",
   "nbconvert_exporter": "python",
   "pygments_lexer": "ipython3",
   "version": "3.13.2"
  }
 },
 "nbformat": 4,
 "nbformat_minor": 5
}
