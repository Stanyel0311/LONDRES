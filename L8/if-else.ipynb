{
 "cells": [
  {
   "cell_type": "markdown",
   "id": "e7d17364",
   "metadata": {},
   "source": [
    "# if-else statement <hr style=\"border:2.5px solid #748392\"></hr>"
   ]
  },
  {
   "cell_type": "markdown",
   "id": "4ba29b69",
   "metadata": {},
   "source": [
    "Data Analyst: Esthaniel Louis E. Londres <br>\n",
    "Department: Electrical Engineering"
   ]
  },
  {
   "cell_type": "markdown",
   "id": "d3b25a77",
   "metadata": {},
   "source": [
    "# if-statement"
   ]
  },
  {
   "cell_type": "code",
   "execution_count": 4,
   "id": "de6f9d45",
   "metadata": {},
   "outputs": [
    {
     "name": "stdout",
     "output_type": "stream",
     "text": [
      "pasar ko\n"
     ]
    }
   ],
   "source": [
    "# passing score is 5.0\n",
    "grade = 5.1 \n",
    "if grade >= 5.0:\n",
    "    print(\"pasar ko\")"
   ]
  },
  {
   "cell_type": "code",
   "execution_count": 5,
   "id": "d94d9c44",
   "metadata": {},
   "outputs": [
    {
     "name": "stdout",
     "output_type": "stream",
     "text": [
      "FAILED\n"
     ]
    }
   ],
   "source": [
    "# two if statements are evaluated \n",
    "garde = 4.5 \n",
    "\n",
    "# evaluate grade\n",
    "if garde >= 5.0:\n",
    "    print(\"PASSSED\")\n",
    "if garde < 5.0:\n",
    "    print(\"FAILED\")"
   ]
  },
  {
   "cell_type": "markdown",
   "id": "d14616d3",
   "metadata": {},
   "source": [
    "# if-else statement"
   ]
  },
  {
   "cell_type": "code",
   "execution_count": 6,
   "id": "76cb9f5c",
   "metadata": {},
   "outputs": [
    {
     "name": "stdout",
     "output_type": "stream",
     "text": [
      "FAILED\n"
     ]
    }
   ],
   "source": [
    "# if grade >= 5.0 is True, else will not be evaluated \n",
    "grade = 4.0\n",
    "\n",
    "# evaluate grade\n",
    "if grade >= 5.0: \n",
    "    print(\"PASSED\")\n",
    "else:\n",
    "    print(\"FAILED\")"
   ]
  },
  {
   "cell_type": "markdown",
   "id": "02433290",
   "metadata": {},
   "source": [
    "# if-elif-else statment"
   ]
  },
  {
   "cell_type": "code",
   "execution_count": 8,
   "id": "0517f9fb",
   "metadata": {},
   "outputs": [
    {
     "name": "stdout",
     "output_type": "stream",
     "text": [
      "FAILED\n"
     ]
    }
   ],
   "source": [
    "# if grade >= 5.0 is True, other conditions will not be evaluated\n",
    "grade = 2.9\n",
    "\n",
    "# evaluate grade\n",
    "if grade >= 5.0:\n",
    "    print(\"PASSED\")\n",
    "elif grade < 5.0: # < 5.0 evaluated first\n",
    "    print(\"FAILED\")\n",
    "elif grade < 3.0:\n",
    "    print(\"DISMISSED\")\n",
    "else:\n",
    "    print(\"INVALID\")"
   ]
  },
  {
   "cell_type": "markdown",
   "id": "d987d450",
   "metadata": {},
   "source": []
  }
 ],
 "metadata": {
  "kernelspec": {
   "display_name": "Python 3",
   "language": "python",
   "name": "python3"
  },
  "language_info": {
   "codemirror_mode": {
    "name": "ipython",
    "version": 3
   },
   "file_extension": ".py",
   "mimetype": "text/x-python",
   "name": "python",
   "nbconvert_exporter": "python",
   "pygments_lexer": "ipython3",
   "version": "3.13.2"
  }
 },
 "nbformat": 4,
 "nbformat_minor": 5
}
